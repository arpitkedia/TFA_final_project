{
 "cells": [
  {
   "cell_type": "code",
   "execution_count": 3,
   "id": "58c94ca7",
   "metadata": {},
   "outputs": [],
   "source": [
    "import numpy as np\n",
    "import pandas as pd"
   ]
  },
  {
   "cell_type": "code",
   "execution_count": 4,
   "id": "95d3aa34",
   "metadata": {},
   "outputs": [],
   "source": [
    "df = pd.read_csv(\"311_Service_Requests_2020.csv\",usecols = ['Unique Key','Complaint Type', 'Incident Zip'])"
   ]
  },
  {
   "cell_type": "code",
   "execution_count": 5,
   "id": "24a33183",
   "metadata": {},
   "outputs": [
    {
     "data": {
      "text/html": [
       "<div>\n",
       "<style scoped>\n",
       "    .dataframe tbody tr th:only-of-type {\n",
       "        vertical-align: middle;\n",
       "    }\n",
       "\n",
       "    .dataframe tbody tr th {\n",
       "        vertical-align: top;\n",
       "    }\n",
       "\n",
       "    .dataframe thead th {\n",
       "        text-align: right;\n",
       "    }\n",
       "</style>\n",
       "<table border=\"1\" class=\"dataframe\">\n",
       "  <thead>\n",
       "    <tr style=\"text-align: right;\">\n",
       "      <th></th>\n",
       "      <th>Unique Key</th>\n",
       "      <th>Complaint Type</th>\n",
       "      <th>Incident Zip</th>\n",
       "    </tr>\n",
       "  </thead>\n",
       "  <tbody>\n",
       "    <tr>\n",
       "      <th>0</th>\n",
       "      <td>45285347</td>\n",
       "      <td>Food Poisoning</td>\n",
       "      <td>11229.0</td>\n",
       "    </tr>\n",
       "    <tr>\n",
       "      <th>1</th>\n",
       "      <td>45285651</td>\n",
       "      <td>Food Poisoning</td>\n",
       "      <td>10458.0</td>\n",
       "    </tr>\n",
       "    <tr>\n",
       "      <th>2</th>\n",
       "      <td>45285821</td>\n",
       "      <td>Food Poisoning</td>\n",
       "      <td>11203.0</td>\n",
       "    </tr>\n",
       "    <tr>\n",
       "      <th>3</th>\n",
       "      <td>45287907</td>\n",
       "      <td>Food Poisoning</td>\n",
       "      <td>11214.0</td>\n",
       "    </tr>\n",
       "    <tr>\n",
       "      <th>4</th>\n",
       "      <td>45288240</td>\n",
       "      <td>Food Poisoning</td>\n",
       "      <td>11385.0</td>\n",
       "    </tr>\n",
       "  </tbody>\n",
       "</table>\n",
       "</div>"
      ],
      "text/plain": [
       "   Unique Key  Complaint Type  Incident Zip\n",
       "0    45285347  Food Poisoning       11229.0\n",
       "1    45285651  Food Poisoning       10458.0\n",
       "2    45285821  Food Poisoning       11203.0\n",
       "3    45287907  Food Poisoning       11214.0\n",
       "4    45288240  Food Poisoning       11385.0"
      ]
     },
     "execution_count": 5,
     "metadata": {},
     "output_type": "execute_result"
    }
   ],
   "source": [
    "#df.head()"
   ]
  },
  {
   "cell_type": "code",
   "execution_count": null,
   "id": "96b76147",
   "metadata": {},
   "outputs": [],
   "source": [
    "my_zip = df[df['Incident Zip'] == 10025]\n",
    "#my_zip"
   ]
  },
  {
   "cell_type": "code",
   "execution_count": null,
   "id": "c2f124b2",
   "metadata": {},
   "outputs": [],
   "source": [
    "ranked = my_zip.iloc[:,1].value_counts()\n",
    "#ranked"
   ]
  },
  {
   "cell_type": "code",
   "execution_count": null,
   "id": "dca975f6",
   "metadata": {},
   "outputs": [],
   "source": [
    "top10 = ranked.head(10)\n",
    "#top10"
   ]
  }
 ],
 "metadata": {
  "kernelspec": {
   "display_name": "Python 3 (ipykernel)",
   "language": "python",
   "name": "python3"
  },
  "language_info": {
   "codemirror_mode": {
    "name": "ipython",
    "version": 3
   },
   "file_extension": ".py",
   "mimetype": "text/x-python",
   "name": "python",
   "nbconvert_exporter": "python",
   "pygments_lexer": "ipython3",
   "version": "3.8.12"
  }
 },
 "nbformat": 4,
 "nbformat_minor": 5
}
